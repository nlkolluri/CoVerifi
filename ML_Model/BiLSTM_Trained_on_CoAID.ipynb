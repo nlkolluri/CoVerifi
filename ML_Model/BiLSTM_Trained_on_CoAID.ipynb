{
  "nbformat": 4,
  "nbformat_minor": 0,
  "metadata": {
    "colab": {
      "name": "BiLSTM_Trained_on_CoAID",
      "provenance": [],
      "collapsed_sections": [],
      "toc_visible": true
    },
    "kernelspec": {
      "display_name": "Python 3",
      "name": "python3"
    }
  },
  "cells": [
    {
      "cell_type": "markdown",
      "metadata": {
        "id": "tf2ewyIEun4c"
      },
      "source": [
        "#Environment Setup"
      ]
    },
    {
      "cell_type": "code",
      "metadata": {
        "id": "nPVC8JqvujQT"
      },
      "source": [
        "from google.colab import drive\n",
        "drive.mount('/content/drive')\n",
        "\n"
      ],
      "execution_count": null,
      "outputs": []
    },
    {
      "cell_type": "markdown",
      "metadata": {
        "id": "uAniL4PHu2K7"
      },
      "source": [
        "#Put Data in DataFrame (Articles)"
      ]
    },
    {
      "cell_type": "code",
      "metadata": {
        "id": "95S83e-9u5L0"
      },
      "source": [
        "import pandas as pd\n",
        "path = \"PATH/TO/DATASETS\" # Place dataset path here\n",
        "import glob, os\n",
        "\n",
        "dfFalse = pd.read_csv(path+\"NewsFakeCOVID-19.csv\", usecols=['title'])\n",
        "dfFalse['label']=0\n",
        "dfFalseJuly = pd.read_csv(path+\"NewsFakeCOVID-19-JULY.csv\", usecols=['title'])\n",
        "dfFalseJuly['label']=0\n",
        "dfTrue = pd.read_csv(path+\"NewsRealCOVID-19.csv\", usecols=['title'], nrows=len(dfFalse.values))\n",
        "dfTrue['label']=1\n",
        "dfTrueJuly = pd.read_csv(path+\"NewsRealCOVID-19-JULY.csv\", usecols=['title'], nrows=len(dfFalseJuly.values))\n",
        "dfTrueJuly['label']=1\n",
        "\n",
        "dfTotal = pd.concat([dfTrue, dfFalse, dfTrueJuly, dfFalseJuly])\n",
        "\n",
        "X = dfTotal['title'].values\n",
        "y = dfTotal['label'].values\n",
        "print(\"len(X)\", len(X))\n",
        "print(\"len(y)\", len(y))"
      ],
      "execution_count": null,
      "outputs": []
    },
    {
      "cell_type": "markdown",
      "metadata": {
        "id": "_HPVrisCWpBi"
      },
      "source": [
        "#Next Steps With Data\n"
      ]
    },
    {
      "cell_type": "code",
      "metadata": {
        "colab": {
          "background_save": true
        },
        "id": "a4HdryvZWoIv"
      },
      "source": [
        "from sklearn.model_selection import train_test_split\n",
        "from sklearn.metrics import classification_report\n",
        "from sklearn.metrics import accuracy_score\n",
        "from keras.preprocessing.text import one_hot\n",
        "from keras.preprocessing.text import hashing_trick\n",
        "\n",
        "from keras.preprocessing.sequence import pad_sequences\n",
        "from keras.models import Sequential\n",
        "from keras.optimizers import Adam\n",
        "from keras import layers\n",
        "from keras.layers import Activation\n",
        "from keras import regularizers\n",
        "from keras.regularizers import l1, l2, l1_l2\n",
        "import math\n",
        "\n",
        "\n",
        "\n",
        "X_train, X_test, y_train, y_test = train_test_split(\n",
        "  X, y, test_size=0.25, random_state=450)\n",
        "\n",
        "X_train = [hashing_trick(elem, 10000, hash_function='md5') for elem in X_train]\n",
        "X_test =  [hashing_trick(elem, 10000, hash_function='md5') for elem in X_test]\n",
        "\n",
        "X_train = pad_sequences(X_train, padding='post', maxlen=500)\n",
        "X_test = pad_sequences(X_test, padding='post', maxlen=500)\n",
        "\n",
        "print(\"Length of X_train:\", len(X_train))\n",
        "print(\"Length of X_test:\", len(X_test))\n",
        "print(\"Length of y_train:\", len(y_train))\n",
        "print(\"Length of y_test:\", len(y_test))\n",
        "\n",
        "model = Sequential()\n",
        "model.add(layers.Embedding(10000, 64, input_length=500))\n",
        "model.add(layers.Bidirectional(layers.LSTM(64, kernel_regularizer=l1_l2(l1=1e-5, l2=1e-4), bias_regularizer=l2(1e-4), recurrent_regularizer=l2(1e-5))))\n",
        "model.add(layers.Dropout(0.7))\n",
        "model.add(layers.Dense(1, activation='sigmoid'))\n",
        "\n",
        "slowAdam = Adam(learning_rate=0.0001)\n",
        "model.compile(loss='binary_crossentropy',\n",
        "              optimizer=slowAdam,\n",
        "              metrics=['accuracy'])\n",
        "model.fit(X_train, y_train,\n",
        "          epochs=5,\n",
        "          validation_data=(X_test, y_test),\n",
        "          batch_size=1)\n",
        "model.summary()\n",
        "\n",
        "model.save('PATH/TO/MODELS/CoAID_using_HashingTrick.h5') #Place intended path here\n",
        "\n",
        "\n",
        "modelPrediction = model.predict(X_test)\n",
        "print(len(modelPrediction))\n",
        "modelPrediction = [math.floor(0.5+pred) for pred in modelPrediction] \n",
        "\n",
        "\n",
        "print(classification_report(y_test, modelPrediction))\n",
        "print(accuracy_score(modelPrediction, y_test))\n"
      ],
      "execution_count": null,
      "outputs": []
    }
  ]
}