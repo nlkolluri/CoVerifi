{
  "nbformat": 4,
  "nbformat_minor": 0,
  "metadata": {
    "colab": {
      "name": "BiLSTM_External_Validation.ipynb",
      "provenance": [],
      "collapsed_sections": []
    },
    "kernelspec": {
      "name": "python3",
      "display_name": "Python 3"
    }
  },
  "cells": [
    {
      "cell_type": "code",
      "metadata": {
        "id": "YOJ9008KTTzn"
      },
      "source": [
        "import tensorflow\n",
        "import keras\n",
        "import pandas\n",
        "import sklearn\n",
        "# If version issues: print(tensorflow.__version__)\n"
      ],
      "execution_count": null,
      "outputs": []
    },
    {
      "cell_type": "code",
      "metadata": {
        "id": "IZLkdJbrwgnU"
      },
      "source": [
        "from google.colab import drive\n",
        "drive.mount('/content/drive')"
      ],
      "execution_count": null,
      "outputs": []
    },
    {
      "cell_type": "code",
      "metadata": {
        "id": "ceKi4Pd6w96K"
      },
      "source": [
        "import pandas as pd\n",
        "import glob, os\n",
        "from keras.preprocessing.sequence import pad_sequences\n",
        "import random, copy\n",
        "import keras\n",
        "import math\n",
        "from sklearn.metrics import classification_report\n",
        "from sklearn.metrics import accuracy_score\n",
        "from sklearn.metrics import f1_score\n",
        "from keras.preprocessing.text import hashing_trick\n",
        "\n",
        "path = \"/PATH/TO/Datasets/\" # Replace with appropriate path\n",
        "dfTotal = pd.read_csv(path+\"Combined_News.csv\", usecols=['title', 'label'])\n",
        "\n",
        "def binaryLabel(label):\n",
        "  if label == \"TRUE\":\n",
        "    return 1\n",
        "  return 0\n",
        "\n",
        "dfTotal['label'] = dfTotal['label'].apply(lambda label: binaryLabel(str(label)))\n",
        "\n",
        "X = dfTotal['title'].values\n",
        "y = dfTotal['label'].values\n",
        "\n",
        "os.chdir(\"/PATH/TO/Models/\") # Replace with appropriate path\n",
        "\n",
        "classifier = keras.models.load_model('CoAID_using_HashingTrick.h5')\n",
        "X_temp =  [hashing_trick(str(elem), 10000, hash_function='md5') for elem in X]\n",
        "X_temp = pad_sequences(X_temp, padding='post', maxlen=500)\n",
        "modelPrediction = classifier.predict(X_temp)\n",
        "modelPrediction = [math.floor(0.5+pred) for pred in modelPrediction]\n",
        "print(\"Results for model trained on CoAID (complete) and evaluated on Poynter + Various using threshhold of >=0.5 is positive\")\n",
        "print(classification_report(y, modelPrediction))\n",
        "\n",
        "# Testing on CoAID as well \n",
        "CoAID_dfFalse = pd.read_csv(path+\"CoAID/NewsFakeCOVID-19.csv\", usecols=['title'])\n",
        "CoAID_dfFalse['label']=0\n",
        "CoAID_dfFalseJuly = pd.read_csv(path+\"CoAID/NewsFakeCOVID-19-JULY.csv\", usecols=['title'])\n",
        "CoAID_dfFalseJuly['label']=0\n",
        "CoAID_dfTrue = pd.read_csv(path+\"CoAID/NewsRealCOVID-19.csv\", usecols=['title'], nrows=len(CoAID_dfFalse.values))\n",
        "CoAID_dfTrue['label']=1\n",
        "CoAID_dfTrueJuly = pd.read_csv(path+\"CoAID/NewsRealCOVID-19-JULY.csv\", usecols=['title'], nrows=len(CoAID_dfFalseJuly.values))\n",
        "CoAID_dfTrueJuly['label']=1\n",
        "CoAID_dfTotal = pd.concat([CoAID_dfTrue, CoAID_dfFalse, CoAID_dfTrueJuly, CoAID_dfFalseJuly])\n",
        "\n",
        "CoAID_X = CoAID_dfTotal['title'].values\n",
        "CoAID_y = CoAID_dfTotal['label'].values\n",
        "\n",
        "classifier = keras.models.load_model('CoAID_using_HashingTrick.h5')\n",
        "CoAID_X_temp =  [hashing_trick(str(elem), 10000, hash_function='md5') for elem in CoAID_X]\n",
        "CoAID_X_temp = pad_sequences(CoAID_X_temp, padding='post', maxlen=500)\n",
        "modelPrediction = classifier.predict(CoAID_X_temp)\n",
        "modelPrediction = [math.floor(0.5+pred) for pred in modelPrediction]\n",
        "print(\"Results for model trained on CoAID and tested on CoAID\")\n",
        "print(classification_report(CoAID_y, modelPrediction))\n",
        "\n"
      ],
      "execution_count": null,
      "outputs": []
    }
  ]
}